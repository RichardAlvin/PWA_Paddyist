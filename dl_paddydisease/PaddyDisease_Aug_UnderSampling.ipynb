{
 "cells": [
  {
   "cell_type": "code",
   "execution_count": 1,
   "id": "a49f6770",
   "metadata": {
    "scrolled": true
   },
   "outputs": [],
   "source": [
    "#Buat semua kelas pada dataset menjadi 337 gambar -> dilakukan secara manual\n",
    "#Memisahkan train dan test data"
   ]
  },
  {
   "cell_type": "code",
   "execution_count": 8,
   "id": "77bc50cc",
   "metadata": {},
   "outputs": [],
   "source": [
    "import os\n",
    "import time\n",
    "import cv2\n",
    "import glob\n",
    "import matplotlib.pyplot as plt\n",
    "import pandas as pd"
   ]
  },
  {
   "cell_type": "code",
   "execution_count": 1,
   "id": "6b62e1b4",
   "metadata": {},
   "outputs": [
    {
     "name": "stderr",
     "output_type": "stream",
     "text": [
      "Copying files: 3370 files [00:18, 181.68 files/s]\n"
     ]
    }
   ],
   "source": [
    "import splitfolders\n",
    "input_folder = 'aug_undersampling_dataset/balanced_undersampling'\n",
    "splitfolders.ratio(input_folder, output=\"aug_undersampling_dataset\", ratio=(.9,.1), \n",
    "                   group_prefix=None)"
   ]
  },
  {
   "cell_type": "code",
   "execution_count": 2,
   "id": "8c21f154",
   "metadata": {},
   "outputs": [
    {
     "name": "stdout",
     "output_type": "stream",
     "text": [
      "train images\n",
      "303 \t bacterial_leaf_blight\n",
      "303 \t bacterial_leaf_streak\n",
      "303 \t bacterial_panicle_blight\n",
      "303 \t blast\n",
      "303 \t brown_spot\n",
      "303 \t dead_heart\n",
      "303 \t downy_mildew\n",
      "303 \t hispa\n",
      "303 \t normal\n",
      "303 \t tungro\n",
      "test images\n",
      "34 \t bacterial_leaf_blight\n",
      "34 \t bacterial_leaf_streak\n",
      "34 \t bacterial_panicle_blight\n",
      "34 \t blast\n",
      "34 \t brown_spot\n",
      "34 \t dead_heart\n",
      "34 \t downy_mildew\n",
      "34 \t hispa\n",
      "34 \t normal\n",
      "34 \t tungro\n"
     ]
    }
   ],
   "source": [
    "import glob\n",
    "from pathlib import Path\n",
    "\n",
    "train_path = 'aug_undersampling_dataset/train'\n",
    "test_path = 'aug_undersampling_dataset/test'\n",
    "\n",
    "print('train images')\n",
    "for filepath in glob.glob(train_path + '/*/'):\n",
    "    files = glob.glob(filepath + '*')\n",
    "    print(f\"{len(files)} \\t {Path(filepath).name}\")\n",
    "    \n",
    "print('test images')\n",
    "for filepath in glob.glob(test_path + '/*/'):\n",
    "    files = glob.glob(filepath + '*')\n",
    "    print(f\"{len(files)} \\t {Path(filepath).name}\")"
   ]
  },
  {
   "cell_type": "code",
   "execution_count": null,
   "id": "993936bf",
   "metadata": {},
   "outputs": [],
   "source": []
  }
 ],
 "metadata": {
  "kernelspec": {
   "display_name": "Python 3 (ipykernel)",
   "language": "python",
   "name": "python3"
  },
  "language_info": {
   "codemirror_mode": {
    "name": "ipython",
    "version": 3
   },
   "file_extension": ".py",
   "mimetype": "text/x-python",
   "name": "python",
   "nbconvert_exporter": "python",
   "pygments_lexer": "ipython3",
   "version": "3.9.13"
  }
 },
 "nbformat": 4,
 "nbformat_minor": 5
}
