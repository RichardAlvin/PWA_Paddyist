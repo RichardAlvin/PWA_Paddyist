{
 "cells": [
  {
   "cell_type": "code",
   "execution_count": null,
   "id": "dd9e62eb",
   "metadata": {},
   "outputs": [],
   "source": [
    "import cv2\n",
    "\n",
    "image=cv2.imread('/paddy-disease-classification/test_images/200070.jpg')\n",
    "image_resized= cv2.resize(image, (224,224))\n",
    "image= np.expand_dims(image_resized, axis=0)\n",
    "print(image.shape)\n",
    "\n",
    "pred=model.predict(image)\n",
    "print(pred)\n",
    "output_class=class_names[np.argmax(pred)]\n",
    "print(\"The predicted class is\", output_class)"
   ]
  }
 ],
 "metadata": {
  "kernelspec": {
   "display_name": "Python 3 (ipykernel)",
   "language": "python",
   "name": "python3"
  },
  "language_info": {
   "codemirror_mode": {
    "name": "ipython",
    "version": 3
   },
   "file_extension": ".py",
   "mimetype": "text/x-python",
   "name": "python",
   "nbconvert_exporter": "python",
   "pygments_lexer": "ipython3",
   "version": "3.9.13"
  }
 },
 "nbformat": 4,
 "nbformat_minor": 5
}
